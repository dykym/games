{
  "nbformat": 4,
  "nbformat_minor": 0,
  "metadata": {
    "colab": {
      "name": "Mancala.ipynb",
      "provenance": [],
      "collapsed_sections": [],
      "include_colab_link": true
    },
    "kernelspec": {
      "name": "python3",
      "display_name": "Python 3"
    }
  },
  "cells": [
    {
      "cell_type": "markdown",
      "metadata": {
        "id": "view-in-github",
        "colab_type": "text"
      },
      "source": [
        "<a href=\"https://colab.research.google.com/github/dykym/games/blob/master/Mancala.ipynb\" target=\"_parent\"><img src=\"https://colab.research.google.com/assets/colab-badge.svg\" alt=\"Open In Colab\"/></a>"
      ]
    },
    {
      "cell_type": "code",
      "metadata": {
        "id": "_3qthpdEEnnS",
        "colab_type": "code",
        "colab": {}
      },
      "source": [
        "import copy"
      ],
      "execution_count": 0,
      "outputs": []
    },
    {
      "cell_type": "code",
      "metadata": {
        "id": "wwYaxDarmeTk",
        "colab_type": "code",
        "colab": {}
      },
      "source": [
        "class Board:\n",
        "  def hid(self, turn, id):\n",
        "    tid = 0 if turn == 1 else 1\n",
        "    return tid * (self.NH + 1) + id\n",
        "  def __init__(self, num_hole):\n",
        "    self.NH = num_hole\n",
        "    self.hole = [0 for x in range(self.NH * 2 + 2)]\n",
        "    # NH, 2*NH+1はgoal\n",
        "    self.turn = 1 # sente=1, gote=-1\n",
        "    self.initialize(4)\n",
        "  def initialize(self, num_stone):\n",
        "    for t in range(2):\n",
        "      for i in range(self.NH):\n",
        "        self.hole[self.hid(t, i)] = num_stone\n",
        "      self.hole[self.hid(t, self.NH)] = 0\n",
        "  def what(self):\n",
        "    ret = \"|\"\n",
        "    for t in [1, -1]:\n",
        "      ret += \"\".join([str(x) for x in self.hole[self.hid(t, 0):self.hid(t, self.NH)]])\n",
        "      ret += \"|\"\n",
        "      ret += str(self.hole[self.hid(t, self.NH)])\n",
        "      ret += \"|\"\n",
        "    ret += \"(SEN)\" if self.turn == 1 else \"(GO)\"\n",
        "    return ret\n",
        "  def stones(self, turn, id):\n",
        "    return self.hole[self.hid(turn, id)]\n",
        "  def seed(self, turn, id):\n",
        "    if turn != self.turn:\n",
        "      raise Exception('invalid turn')\n",
        "    p = self.hid(turn, id)\n",
        "    n = self.hole[p]\n",
        "    self.hole[p] = 0\n",
        "    while n > 0:\n",
        "      p = (p + 1) % len(self.hole)\n",
        "      self.hole[p] += 1\n",
        "      n -= 1\n",
        "    cont = ((p == self.NH) or (p == self.NH * 2 + 1)) # 大きい穴で終わったらtrue\n",
        "    if not cont:\n",
        "      self.turn *= -1\n",
        "    return cont\n",
        "  def sum_stones(self, turn):\n",
        "    return sum([self.stones(turn, i) for i in range(self.NH)])\n",
        "  \n"
      ],
      "execution_count": 0,
      "outputs": []
    },
    {
      "cell_type": "code",
      "metadata": {
        "id": "m80nL9GfOe4p",
        "colab_type": "code",
        "colab": {}
      },
      "source": [
        "class Game:\n",
        "  def __init__(self):\n",
        "    self.b = Board(6)\n",
        "    self.b.initialize(4)\n",
        "    self.WIN = 999\n",
        "  def gen_all_moves(self, b, turn):\n",
        "    ret = []\n",
        "    for i in range(b.NH):\n",
        "      if b.stones(turn, i) > 0:\n",
        "        ret.append(i)\n",
        "    return ret\n",
        "  def eval_node(self, b, turn):\n",
        "    my_sum = b.sum_stones(turn)\n",
        "    if my_sum == 0:\n",
        "      return self.WIN * turn\n",
        "    return (-my_sum) * turn\n",
        "  def max_node(self, b, remain):\n",
        "    if remain <= 0:\n",
        "      return (self.eval_node(b, 1), [])\n",
        "    #if self.eval_node(b) == self.WIN:\n",
        "    #  return (self.WIN, [])\n",
        "    ms = self.gen_all_moves(b, 1)\n",
        "    if len(ms) == 0:\n",
        "      return (self.WIN, [])\n",
        "    #print(\"depth\", remain, ms)\n",
        "    cvals = []\n",
        "    for m in ms:\n",
        "      mb = copy.deepcopy(b)\n",
        "      cont = self.move(mb, m)\n",
        "      if mb.sum_stones(1) == 0:\n",
        "        cont = True\n",
        "      if cont:\n",
        "        cvals.append((self.max_node(mb, remain), m))\n",
        "      else:\n",
        "        cvals.append((self.min_node(mb, remain - 1), m))\n",
        "    bestchildvs, bestmove = max(cvals, key=lambda x : x[0][0])\n",
        "    bestval, bestcmoves = bestchildvs\n",
        "    retmoves = [\"s\" + str(bestmove)] + bestcmoves\n",
        "    return (bestval, retmoves)\n",
        "  def min_node(self, b, remain):\n",
        "    if remain <= 0:\n",
        "      return (self.eval_node(b, -1), [])\n",
        "    #if self.eval_node(b) == self.WIN:\n",
        "    #  return (self.WIN, [])\n",
        "    ms = self.gen_all_moves(b, -1)\n",
        "    if len(ms) == 0:\n",
        "      return (-self.WIN, [])\n",
        "    cvals = []\n",
        "    for m in ms:\n",
        "      mb = copy.deepcopy(b)\n",
        "      cont = self.move(mb, m)\n",
        "      if mb.sum_stones(-1) == 0:\n",
        "        cont = True\n",
        "      if cont:\n",
        "        cvals.append((self.min_node(mb, remain), m))\n",
        "      else:\n",
        "        cvals.append((self.max_node(mb, remain - 1), m))\n",
        "    bestchildvs, bestmove = min(cvals, key=lambda x : x[0][0])\n",
        "    bestval, bestcmoves = bestchildvs\n",
        "    retmoves = [\"g\" + str(bestmove)] + bestcmoves\n",
        "    return (bestval, retmoves)\n",
        "  def move(self, b, mv):\n",
        "    return b.seed(b.turn, mv)\n",
        "  def search(self, b, depth):\n",
        "    turn = b.turn\n",
        "    if turn == 1:\n",
        "      r = self.max_node(b, depth)\n",
        "      turn_s = 's'\n",
        "    else:\n",
        "      r = self.min_node(b, depth)\n",
        "      turn_s = 'g'\n",
        "    print(\"result: \", )\n",
        "    print(r)\n",
        "    moves = [r[1][0]]\n",
        "    for m in r[1][1:]:\n",
        "      if m[0] != turn_s:\n",
        "        break\n",
        "      moves.append(m)\n",
        "    for m in moves:\n",
        "      mv = int(m[1:])\n",
        "      b.seed(turn, mv)\n",
        "\n",
        "\n",
        "  def cui(self):\n",
        "    b = Board(3)\n",
        "    b.initialize(2)\n",
        "    while True:\n",
        "      print(b.what())\n",
        "      c = input()\n",
        "      if c[0] == 'm':\n",
        "        b.seed(b.turn, int(c[2:]))\n",
        "      elif c[0] == 's':\n",
        "        elms = c.split(' ')\n",
        "        if len(elms) != 2:\n",
        "          depth = 10\n",
        "        else:\n",
        "          depth = int(elms[1])\n",
        "        self.search(b, depth)\n",
        "      elif c[0] == 'i':\n",
        "        elms = c.split(' ')\n",
        "        b = Board(int(elms[1]))\n",
        "        b.initialize(int(elms[2]))\n",
        "      elif c == 'q':\n",
        "        break\n",
        "      elif c == 'h':\n",
        "        print(\"m num\")\n",
        "        print(\"q: quit\")\n",
        "\n",
        "\n",
        "  def test(self):\n",
        "    b = Board(3)\n",
        "    b.initialize(2)\n",
        "    print(b.what())\n",
        "    r = self.max_node(b, 20)\n",
        "    print(r)\n",
        "   "
      ],
      "execution_count": 0,
      "outputs": []
    },
    {
      "cell_type": "code",
      "metadata": {
        "id": "XHr2WgL0d6ge",
        "colab_type": "code",
        "colab": {}
      },
      "source": [
        "class Mancala:\n",
        "  def main(self):\n",
        "    Game().cui()"
      ],
      "execution_count": 0,
      "outputs": []
    },
    {
      "cell_type": "code",
      "metadata": {
        "id": "rmRq6fjlLB7B",
        "colab_type": "code",
        "outputId": "08c55644-1250-4613-c275-a379ba822b13",
        "colab": {
          "base_uri": "https://localhost:8080/",
          "height": 53
        }
      },
      "source": [
        "Game().test()"
      ],
      "execution_count": 24,
      "outputs": [
        {
          "output_type": "stream",
          "text": [
            "|222|0|222|0|(SEN)\n",
            "(-1, ['s0', 'g1', 'g2', 's0', 'g0', 's1', 'g2', 's0', 'g0', 's2', 'g0', 's1', 'g1', 's2', 'g0', 's0', 'g2', 's0', 'g1', 's1', 'g0'])\n"
          ],
          "name": "stdout"
        }
      ]
    },
    {
      "cell_type": "code",
      "metadata": {
        "id": "RsurwrDU_loK",
        "colab_type": "code",
        "colab": {
          "base_uri": "https://localhost:8080/",
          "height": 550
        },
        "outputId": "5586f2d4-aece-432a-b657-c0cd207a5ab3"
      },
      "source": [
        "Mancala().main()"
      ],
      "execution_count": 26,
      "outputs": [
        {
          "output_type": "stream",
          "text": [
            "|222|0|222|0|(SEN)\n",
            "s 3\n",
            "result: \n",
            "(6, ['s1', 's2', 'g1', 's0', 's1'])\n",
            "|200|2|332|0|(GO)\n",
            "s 3\n",
            "result: \n",
            "(-4, ['g1', 's0', 's2', 's1', 'g0', 'g2'])\n",
            "|300|2|303|1|(SEN)\n",
            "s 3\n",
            "result: \n",
            "(3, ['s0', 's1', 'g0', 'g2', 's2'])\n",
            "|002|3|303|1|(GO)\n",
            "s 3\n",
            "result: \n",
            "(-3, ['g2', 's2', 'g0'])\n",
            "|112|3|300|2|(SEN)\n",
            "s 3\n",
            "result: \n",
            "(999, ['s0', 'g0', 'g1', 's1', 's2'])\n",
            "|022|3|300|2|(GO)\n",
            "s 3\n",
            "result: \n",
            "(999, ['g0', 'g1', 's1', 's2'])\n",
            "|022|3|002|3|(SEN)\n",
            "s 3\n",
            "result: \n",
            "(999, ['s1', 's2'])\n",
            "|000|5|112|3|(GO)\n",
            "q\n"
          ],
          "name": "stdout"
        }
      ]
    }
  ]
}